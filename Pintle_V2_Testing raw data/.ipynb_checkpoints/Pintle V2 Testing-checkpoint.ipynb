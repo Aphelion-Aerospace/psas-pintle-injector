{
 "cells": [
  {
   "cell_type": "markdown",
   "metadata": {},
   "source": []
  },
  {
   "cell_type": "code",
   "execution_count": 1,
   "metadata": {},
   "outputs": [
    {
     "name": "stdout",
     "output_type": "stream",
     "text": [
      "Pintle measured mass flow rate         =    0.067 kg/s\n",
      "Annulus measured mass flow rate        =    0.152 kg/s \n",
      "\n",
      "Loss coefficient for pintle            =    2.416e-06\n",
      "Loss coefficient for annulus           =    5.223e-06 \n",
      "\n",
      "Pressure estimate, pintle              =   2071.2 psi\n",
      "Pressure estimate, annulus             =    443.2 psi\n"
     ]
    }
   ],
   "source": [
    "import math\n",
    "\n",
    "#measured data\n",
    "pintle_psi_1   = 48.76  ; pintle_psi_2   = 49.49  ; pintle_psi_3   = 70.5   ;\n",
    "pintle_gpm_1   = 1.01   ; pintle_gpm_2   = 1.01   ; pintle_gpm_3   = 1.18   ;\n",
    "annulus_psi_1  = 61.57  ; annulus_psi_2  = 61.66  ; annulus_psi_3  = 61.09  ;\n",
    "annulus_gpm_1   = 2.43  ; annulus_gpm_2  = 2.41   ; annulus_gpm_3  = 2.39   ;\n",
    "\n",
    "#Average values\n",
    "pintle_delta_pressure_psi  = (pintle_psi_1 + pintle_psi_2 + pintle_psi_3)/3  # psi\n",
    "pintle_flow_rate_gpm       = (pintle_gpm_1 + pintle_gpm_2 + pintle_gpm_3)/3\n",
    "annulus_delta_pressure_psi = (annulus_psi_1 + annulus_psi_2 + annulus_psi_3)/3  # psi\n",
    "annulus_flow_rate_gpm      = (annulus_gpm_1 + annulus_gpm_2 + annulus_gpm_3)/3  # gpm\n",
    "\n",
    "#conversions and constants\n",
    "gpm_to_si = 6.30902e-5 # convert gpm to m^3/s\n",
    "rho_water = 999.7     #kg/m^3 : density of water at 10 C\n",
    "\n",
    "# convert measured pressure from PSI to pa\n",
    "\n",
    "pintle_headloss = (pintle_delta_pressure_psi / 0.1450377 )*1000     \n",
    "annulus_headloss = (annulus_delta_pressure_psi / 0.1450377 )*1000   \n",
    "\n",
    "# Mass flow rate\n",
    "\n",
    "pintle_mass_flowrate = pintle_flow_rate_gpm * gpm_to_si * rho_water\n",
    "annulus_mass_flowrate = annulus_flow_rate_gpm * gpm_to_si * rho_water \n",
    "\n",
    "# Pressure loss coeffient per Eq 5\n",
    "\n",
    "pintle_C_loss = pintle_mass_flowrate /(rho_water*(math.sqrt((2*pintle_headloss)/rho_water)))\n",
    "annulus_C_loss = annulus_mass_flowrate / (rho_water*math.sqrt((2*annulus_headloss)/rho_water))\n",
    "\n",
    "#pressure needed estimated with loss coefficient:\n",
    "\n",
    "estimated_pintle_pressure = ((0.4082332**2/(pintle_C_loss**2*2*rho_water))/1000)*0.1450377\n",
    "estimated_annulus_pressure = ((0.4082332**2/(annulus_C_loss**2*2*rho_water))/1000)*0.1450377\n",
    "\n",
    "print('Pintle measured mass flow rate         = %8.3f kg/s' % pintle_mass_flowrate)\n",
    "print('Annulus measured mass flow rate        = %8.3f kg/s \\n' % annulus_mass_flowrate)\n",
    "\n",
    "print('Loss coefficient for pintle            = %12.3e' % pintle_C_loss)\n",
    "print('Loss coefficient for annulus           = %12.3e \\n' % annulus_C_loss)\n",
    "\n",
    "print('Pressure estimate, pintle              = %8.1f psi' % estimated_pintle_pressure)\n",
    "print('Pressure estimate, annulus             = %8.1f psi' % estimated_annulus_pressure)"
   ]
  },
  {
   "cell_type": "code",
   "execution_count": null,
   "metadata": {},
   "outputs": [],
   "source": []
  }
 ],
 "metadata": {
  "kernelspec": {
   "display_name": "Python 3",
   "language": "python",
   "name": "python3"
  },
  "language_info": {
   "codemirror_mode": {
    "name": "ipython",
    "version": 3
   },
   "file_extension": ".py",
   "mimetype": "text/x-python",
   "name": "python",
   "nbconvert_exporter": "python",
   "pygments_lexer": "ipython3",
   "version": "3.6.3"
  },
  "toc": {
   "base_numbering": 1,
   "nav_menu": {},
   "number_sections": true,
   "sideBar": true,
   "skip_h1_title": false,
   "title_cell": "Table of Contents",
   "title_sidebar": "Contents",
   "toc_cell": false,
   "toc_position": {},
   "toc_section_display": true,
   "toc_window_display": false
  }
 },
 "nbformat": 4,
 "nbformat_minor": 2
}
