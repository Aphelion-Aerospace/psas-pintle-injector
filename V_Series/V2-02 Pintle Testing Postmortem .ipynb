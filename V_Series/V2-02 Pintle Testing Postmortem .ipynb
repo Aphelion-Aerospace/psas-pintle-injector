{
 "cells": [
  {
   "cell_type": "markdown",
   "metadata": {},
   "source": [
    "# Introduction and Test Purpose\n",
    "\n",
    "This postmortem covers the initial hydro testing of the V2 Pintle injector design. For additional background information on the pintle design, see the [Pintle Design Document](https://github.com/psas/pintle-injector/blob/master/Pintle%20Injector%20Design%20Documentation/00%20-%20Pintle%20Injector%20Theory%2C%20Design%2C%20and%20Testing.ipynb)\n"
   ]
  },
  {
   "attachments": {},
   "cell_type": "markdown",
   "metadata": {},
   "source": [
    "# Methods\n",
    "\n",
    "The injector underwent hydro testing whereby water was flown through each of the injector flow paths. The water was supplied using a pressurized tank sealed from the system using manual ball valves. (Fig 1)\n",
    "\n",
    "Pressure was measured using one 0-300 psi pressure transmitter. \n",
    "\n",
    "## Test Set-up and Theory\n",
    "\n",
    "\n",
    "<img src=\"./Images/V2_test_setup_1.jpg\" align=\"center\" width=\"500\"/>\n",
    "\n",
    ">Test set up for hydro test of pintle. Water was supplied to the tank via the vertical tube on the left. The tank was pressurized from the top using a small air compressor. \n",
    "\n",
    "\n",
    "\n",
    "<img src=\"./Images/V2_radial_spray2.PNG\" align=\"center\" width=\"500\"/>\n",
    "\n",
    "\n",
    "\n",
    "\n",
    "<img src=\"./Images/V2_arduino circuit.jpg\" align=\"center\" width=\"500\"/>\n",
    "\n",
    "\n",
    "# Data\n",
    "\n",
    "- insert location of raw data files\n",
    "\n",
    "<img src=\"./Images/V2_data_summary.PNG\" align=\"center\" width=\"500\"/>\n",
    "\n",
    "\n",
    "\n",
    "[V2 raw data folder](https://github.com/psas/pintle-injector/tree/master/Pintle_V2_Testing%20raw%20data/Pintle%20testing%2004-15-2019)"
   ]
  },
  {
   "cell_type": "markdown",
   "metadata": {},
   "source": [
    "# Results\n",
    "\n",
    "## Graphs\n",
    "\n",
    "<img src=\"./Images/V2_annulus_graph.PNG\" align=\"center\" width=\"500\"/>\n",
    "\n",
    "\n",
    "<img src=\"./Images/V2_pintle_graph.PNG\" align=\"center\" width=\"500\"/>\n",
    "\n",
    "\n",
    "\n",
    "<img src=\"./Images/V2_annular_spray.jpg\" align=\"center\" width=\"500\"/>\n",
    "\n",
    "<img src=\"./Images/Velocity_profile_1.PNG\" align=\"center\" width=\"500\"/>\n",
    "\n",
    "\n",
    "# Conclusions\n",
    "\n",
    "A new design for is needed for the flow path into the fuel chamber. V3 should employ 3 entrances radially spaced $120^\\circ$ apart. \n",
    "\n",
    "While it would be possible to perform spray testing with this design, the spray angle would most likely be highly eccentric. It was decided to rapidly push for a V3 design which could be 3D printed at 3D systems using the MJP process. "
   ]
  },
  {
   "cell_type": "code",
   "execution_count": null,
   "metadata": {},
   "outputs": [],
   "source": []
  }
 ],
 "metadata": {
  "kernelspec": {
   "display_name": "Python 3",
   "language": "python",
   "name": "python3"
  },
  "language_info": {
   "codemirror_mode": {
    "name": "ipython",
    "version": 3
   },
   "file_extension": ".py",
   "mimetype": "text/x-python",
   "name": "python",
   "nbconvert_exporter": "python",
   "pygments_lexer": "ipython3",
   "version": "3.6.3"
  },
  "toc": {
   "base_numbering": 1,
   "nav_menu": {},
   "number_sections": true,
   "sideBar": true,
   "skip_h1_title": false,
   "title_cell": "Table of Contents",
   "title_sidebar": "Contents",
   "toc_cell": false,
   "toc_position": {},
   "toc_section_display": true,
   "toc_window_display": false
  }
 },
 "nbformat": 4,
 "nbformat_minor": 2
}
