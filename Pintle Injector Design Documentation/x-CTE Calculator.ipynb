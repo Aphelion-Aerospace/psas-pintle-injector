{
 "cells": [
  {
   "cell_type": "markdown",
   "metadata": {},
   "source": [
    "# PSAS Injector\n",
    "Press fit calculations\n",
    "\n",
    "Currently in meters\n",
    "\n",
    "Variables:"
   ]
  },
  {
   "cell_type": "code",
   "execution_count": 18,
   "metadata": {},
   "outputs": [
    {
     "name": "stdout",
     "output_type": "stream",
     "text": [
      "     Lo        Lf          Li\n",
      "0    0.03556     0.03543     0.03562\n",
      "1    0.03569     0.03555     0.03574\n",
      "2    0.03581     0.03568     0.03587\n",
      "3    0.03594     0.03581     0.03600\n",
      "4    0.03607     0.03593     0.03612\n",
      "5    0.03619     0.03606     0.03625\n",
      "6    0.03632     0.03619     0.03638\n"
     ]
    }
   ],
   "source": [
    "import math\n",
    "Tf=-218\n",
    "#coldtemp, below room temp\n",
    "Ti=90\n",
    "#hottemp, above room temp\n",
    "alpha=17.3\n",
    "print (\"     Lo        Lf          Li\")\n",
    "for i in range(7):\n",
    "    #print(i)\n",
    "    Lo=0.03556 + i*0.000127\n",
    "    #in meters\n",
    "    Lf=alpha*(Tf)*Lo*10**-6+Lo\n",
    "    Li=alpha*(Ti)*Lo*10**-6+Lo\n",
    "    \n",
    "    #print (i,\"  \", Lo,\"   \", Lf) \n",
    "    print (i,\"  \", \"%0.5f\" % Lo,\"   \", \"%0.5f\" % Lf, \"   \", \"%0.5f\" % Li) "
   ]
  },
  {
   "cell_type": "markdown",
   "metadata": {},
   "source": [
    "Remember the manufacturing plus or minus 0.005\n",
    "ALSO WATCH THE UNITS!!!\n",
    "\n",
    "\n",
    "Below is the same system but in Inches"
   ]
  },
  {
   "cell_type": "code",
   "execution_count": 3,
   "metadata": {},
   "outputs": [
    {
     "name": "stdout",
     "output_type": "stream",
     "text": [
      "     Lo        Lf          Li\n",
      "0    1.385     1.37978     1.38687\n",
      "1    1.390     1.38476     1.39188\n",
      "2    1.395     1.38974     1.39688\n",
      "3    1.400     1.39472     1.40189\n",
      "4    1.405     1.39970     1.40690\n",
      "5    1.410     1.40468     1.41190\n",
      "6    1.415     1.40966     1.41691\n"
     ]
    }
   ],
   "source": [
    "import math\n",
    "Tf=-218\n",
    "#coldtemp, below room temp\n",
    "Ti=78\n",
    "#hottemp, above room temp\n",
    "alpha=17.3\n",
    "print (\"     Lo        Lf          Li\")\n",
    "for i in range(7):\n",
    "    #print(i)\n",
    "    Lo=(0.035179 + i*0.000127)*39.3700787\n",
    "    #in inches\n",
    "    Lf=alpha*(Tf)*Lo*10**-6+Lo\n",
    "    Li=alpha*(Ti)*Lo*10**-6+Lo\n",
    "    \n",
    "    #print (i,\"  \", Lo,\"   \", Lf) \n",
    "    print (i,\"  \", \"%0.3f\" % Lo,\"   \", \"%0.5f\" % Lf, \"   \", \"%0.5f\" % Li) "
   ]
  },
  {
   "cell_type": "code",
   "execution_count": 24,
   "metadata": {},
   "outputs": [
    {
     "name": "stdout",
     "output_type": "stream",
     "text": [
      "     Lo        Lc          Lh\n",
      "0    1.385     1.37978     1.38687\n",
      "1    1.390     1.38476     1.39188\n",
      "2    1.395     1.38974     1.39688\n",
      "3    1.400     1.39472     1.40189\n",
      "4    1.405     1.39970     1.40690\n",
      "5    1.410     1.40468     1.41190\n",
      "6    1.415     1.40966     1.41691\n"
     ]
    }
   ],
   "source": [
    "### \n",
    "\n",
    "import math\n",
    "\n",
    "# enter length in inches\n",
    "\n",
    "length_inches = 1.385\n",
    "\n",
    "Tc=218\n",
    "#coldtemp, below room temp\n",
    "Th=78\n",
    "#hottemp, above room temp\n",
    "alpha=17.3\n",
    "\n",
    "length = length_inches / 39.3700787\n",
    "\n",
    "\n",
    "print (\"     Lo        Lc          Lh\")\n",
    "for i in range(7):\n",
    "    #print(i)\n",
    "    Lo=(length + i*0.000127)\n",
    "    #in inches\n",
    "    Lo_inch = Lo *39.3700787\n",
    "    Lc=(Lo - alpha*(Tc)*Lo*10**-6)*39.3700787\n",
    "    Lh=(Lo + alpha*(Th)*Lo*10**-6)*39.3700787\n",
    " \n",
    "    \n",
    "    #print (i,\"  \", Lo,\"   \", Lf) \n",
    "    print (i,\"  \", \"%0.3f\" % Lo_inch,\"   \", \"%0.5f\" % Lc, \"   \", \"%0.5f\" % Lh) "
   ]
  },
  {
   "cell_type": "code",
   "execution_count": null,
   "metadata": {},
   "outputs": [],
   "source": []
  }
 ],
 "metadata": {
  "kernelspec": {
   "display_name": "Python 3",
   "language": "python",
   "name": "python3"
  },
  "language_info": {
   "codemirror_mode": {
    "name": "ipython",
    "version": 3
   },
   "file_extension": ".py",
   "mimetype": "text/x-python",
   "name": "python",
   "nbconvert_exporter": "python",
   "pygments_lexer": "ipython3",
   "version": "3.6.3"
  },
  "toc": {
   "base_numbering": 1,
   "nav_menu": {},
   "number_sections": true,
   "sideBar": true,
   "skip_h1_title": false,
   "title_cell": "Table of Contents",
   "title_sidebar": "Contents",
   "toc_cell": false,
   "toc_position": {},
   "toc_section_display": true,
   "toc_window_display": false
  }
 },
 "nbformat": 4,
 "nbformat_minor": 2
}
