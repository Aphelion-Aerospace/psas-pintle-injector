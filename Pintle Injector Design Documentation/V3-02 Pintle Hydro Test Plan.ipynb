{
 "cells": [
  {
   "attachments": {},
   "cell_type": "markdown",
   "metadata": {},
   "source": [
    "#  Hydro Test Plan for Pintle V3\n",
    "\n",
    "\n",
    "## Description\n",
    "\n",
    "This test plan describes the experimental set up and intent for hydro testing the third version of the pintle injector. \n",
    "\n",
    "For this test, 3 separate injectors have been made. Each injector has different geometry which will be described later.\n",
    "\n",
    "Each of the three injectors will undergo similar testing in order to determine overall the loss coefficients for both the pintle and and annulus. Each will also be tested for spray angle.\n",
    "\n",
    "\n",
    "# Test Articles\n",
    "\n",
    "The test articles were made at [3D Systems](https://www.3dsystems.com/) and were printed using Multi-Jet Printing ([MJP](https://www.3dsystems.com/3d-printers/projet-mjp-2500-series)). \n",
    "\n",
    "It is unknown what the maximum fluid pressure the injectors will be able to sustain, so the initial testing will work from low to high pressure. \n",
    "\n",
    "Each of the three injectors were manufactured to be as close to identical as possible with the exception of the radial orifices of the pintle and the outer diameter of the annulus.\n",
    "\n",
    "\n",
    "\n",
    "\n",
    "\n",
    "\n",
    "\n",
    "\n",
    "\n",
    "\n"
   ]
  },
  {
   "cell_type": "markdown",
   "metadata": {},
   "source": [
    "# Experimental Setup\n",
    "\n",
    "\n",
    "<img src=\"./Images/V3_pintle_test_setup.PNG\" align=\"center\" width=\"500\"/>\n",
    "\n",
    "\n",
    "\n",
    "\n",
    "\n",
    "# Test Plan"
   ]
  }
 ],
 "metadata": {
  "kernelspec": {
   "display_name": "Python 3",
   "language": "python",
   "name": "python3"
  },
  "language_info": {
   "codemirror_mode": {
    "name": "ipython",
    "version": 3
   },
   "file_extension": ".py",
   "mimetype": "text/x-python",
   "name": "python",
   "nbconvert_exporter": "python",
   "pygments_lexer": "ipython3",
   "version": "3.6.3"
  },
  "toc": {
   "base_numbering": 1,
   "nav_menu": {},
   "number_sections": true,
   "sideBar": true,
   "skip_h1_title": false,
   "title_cell": "Table of Contents",
   "title_sidebar": "Contents",
   "toc_cell": false,
   "toc_position": {},
   "toc_section_display": true,
   "toc_window_display": false
  }
 },
 "nbformat": 4,
 "nbformat_minor": 2
}
