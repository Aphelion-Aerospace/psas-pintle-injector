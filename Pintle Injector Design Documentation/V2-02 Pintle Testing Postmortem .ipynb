{
 "cells": [
  {
   "cell_type": "markdown",
   "metadata": {},
   "source": [
    "# Introduction\n",
    "\n",
    "This postmortem covers the initial hydro testing of the V2 Pintle injector design. For additional background information on the pintle design, see the [V1 pintle postmortem.](https://github.com/psas/liquid-engine-test-stand/blob/master/Pintle/Pintle%20Injector%20Design%20Documentation/02%20V1%20Pintle%20Testing%20Postmortem%20.ipynb)\n"
   ]
  },
  {
   "cell_type": "markdown",
   "metadata": {},
   "source": [
    "# Methods\n",
    "<img src=\"./Images/V2_arduino circuit.jpg\" align=\"center\" width=\"500\"/>\n",
    "\n",
    "<img src=\"./Images/V2_test_setup_1.jpg\" align=\"center\" width=\"500\"/>\n",
    "\n",
    "# Data\n",
    "\n",
    "- insert location of raw data files\n",
    "\n"
   ]
  },
  {
   "cell_type": "markdown",
   "metadata": {},
   "source": [
    "# Results\n",
    "\n",
    "## Graphs\n",
    "\n",
    "<img src=\"./Images/V2_annulus_graph.PNG\" align=\"center\" width=\"500\"/>\n",
    "\n",
    "\n",
    "<img src=\"./Images/V2_pintle_graph.PNG\" align=\"center\" width=\"500\"/>\n",
    "\n",
    "\n",
    "\n",
    "<img src=\"./Images/V2_annular_spray.jpg\" align=\"center\" width=\"500\"/>\n",
    "\n",
    "<img src=\"./Images/Velocity_profile_1.PNG\" align=\"center\" width=\"500\"/>\n",
    "\n",
    "\n",
    "# Conclusions\n",
    "\n",
    "A new design for is needed for the flow path into the fuel chamber. V3 should employ 3 entrances radially spaced $120^\\circ$ apart. \n",
    "\n",
    "While it would be possible to perform spray testing with this design, the spray angle would most likely be highly eccentric. It was decided to rapidly push for a V3 design which could be 3D printed at 3D systems using the MJP process. "
   ]
  },
  {
   "cell_type": "code",
   "execution_count": null,
   "metadata": {},
   "outputs": [],
   "source": []
  }
 ],
 "metadata": {
  "kernelspec": {
   "display_name": "Python 3",
   "language": "python",
   "name": "python3"
  },
  "language_info": {
   "codemirror_mode": {
    "name": "ipython",
    "version": 3
   },
   "file_extension": ".py",
   "mimetype": "text/x-python",
   "name": "python",
   "nbconvert_exporter": "python",
   "pygments_lexer": "ipython3",
   "version": "3.6.3"
  },
  "toc": {
   "base_numbering": 1,
   "nav_menu": {},
   "number_sections": true,
   "sideBar": true,
   "skip_h1_title": false,
   "title_cell": "Table of Contents",
   "title_sidebar": "Contents",
   "toc_cell": false,
   "toc_position": {},
   "toc_section_display": true,
   "toc_window_display": false
  }
 },
 "nbformat": 4,
 "nbformat_minor": 2
}
