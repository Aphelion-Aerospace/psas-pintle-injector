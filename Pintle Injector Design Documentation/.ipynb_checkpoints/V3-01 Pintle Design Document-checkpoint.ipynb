{
 "cells": [
  {
   "cell_type": "markdown",
   "metadata": {},
   "source": [
    "# Design Requirements:\n",
    "\n",
    "\n",
    "The pintle injector needs to meet the following requirements:\n",
    "\n",
    "1. Oxidizer: Liquid Oxygen (LOX)\n",
    "2. Fuel: 70% Isopropyl Alcohol, 30% water (IPA)\n",
    "3. Meet mass flow rates at a pressure differential between 15-20 % of chamber pressure: \n",
    "    - Engine chamber pressure 350 psi (as designed)\n",
    "    - Target pressure differential: 53-70 psi   \n",
    "4. LOX mass flow rate of 0.9 lbm/s (0.4082 kg/s)\n",
    "5. Fuel mass flow rate of 1.16 lbm/s (0.5262 kg/s)\n",
    "\n",
    "Additional Physical / Machining constraints\n",
    "\n",
    "1. Max outer diameter for Annulus, 0.55 in (13.97 mm)\n",
    "2. Min Pintle wall thickness 0.08 in (2.032 mm)\n",
    "    - A larger wall thickness is preferred, target .12 in (3.048 mm)\n",
    "    \n",
    "    "
   ]
  },
  {
   "cell_type": "code",
   "execution_count": null,
   "metadata": {},
   "outputs": [],
   "source": []
  }
 ],
 "metadata": {
  "kernelspec": {
   "display_name": "Python 3",
   "language": "python",
   "name": "python3"
  },
  "language_info": {
   "codemirror_mode": {
    "name": "ipython",
    "version": 3
   },
   "file_extension": ".py",
   "mimetype": "text/x-python",
   "name": "python",
   "nbconvert_exporter": "python",
   "pygments_lexer": "ipython3",
   "version": "3.6.3"
  },
  "toc": {
   "base_numbering": 1,
   "nav_menu": {},
   "number_sections": true,
   "sideBar": true,
   "skip_h1_title": false,
   "title_cell": "Table of Contents",
   "title_sidebar": "Contents",
   "toc_cell": false,
   "toc_position": {},
   "toc_section_display": true,
   "toc_window_display": false
  }
 },
 "nbformat": 4,
 "nbformat_minor": 2
}
